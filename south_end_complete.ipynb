{
 "cells": [
  {
   "cell_type": "markdown",
   "metadata": {},
   "source": [
    "# Setup"
   ]
  },
  {
   "cell_type": "markdown",
   "metadata": {},
   "source": [
    "To install everything, open your terminal and run:\n",
    "`pip install altair jupyterlab altair_data_server`"
   ]
  },
  {
   "cell_type": "code",
   "execution_count": null,
   "metadata": {},
   "outputs": [],
   "source": [
    "import pandas as pd\n",
    "import altair as alt\n",
    "from altair import datum\n",
    "\n",
    "# Makes nice SVG images\n",
    "# alt.renderers.enable('jupyterlab', embed_options={'renderer': 'svg'})\n",
    "\n",
    "# Avoids writing all the data to the notebook or disk. \n",
    "# See https://altair-viz.github.io/user_guide/faq.html#local-data-server\n",
    "# Note that this may not work on some cloud-based Jupyter notebook services.\n",
    "alt.data_transformers.enable('data_server')"
   ]
  },
  {
   "cell_type": "markdown",
   "metadata": {},
   "source": [
    "# Background\n",
    "\n",
    "The census tract for the South End begins just on the SE side of Columbus Avenue, as shown in this map:\n",
    "\n",
    "<img src='south_end.png' width='50%'>"
   ]
  },
  {
   "cell_type": "code",
   "execution_count": null,
   "metadata": {},
   "outputs": [],
   "source": [
    "df = pd.read_csv('south_end.csv')"
   ]
  },
  {
   "cell_type": "code",
   "execution_count": null,
   "metadata": {},
   "outputs": [],
   "source": [
    "df.columns"
   ]
  },
  {
   "cell_type": "code",
   "execution_count": null,
   "metadata": {},
   "outputs": [],
   "source": [
    "df[['Category','Subcategory']].drop_duplicates()"
   ]
  },
  {
   "cell_type": "code",
   "execution_count": null,
   "metadata": {},
   "outputs": [],
   "source": [
    "df"
   ]
  },
  {
   "cell_type": "code",
   "execution_count": null,
   "metadata": {},
   "outputs": [],
   "source": [
    "alt.Chart(df).mark_bar().encode(\n",
    "    x='Decade:O',\n",
    "    y='Count:Q',\n",
    "    color='Subcategory:N',\n",
    "    order=alt.Order(\n",
    "      'Subcategory:N',\n",
    "      sort='ascending'\n",
    "    )\n",
    ").transform_filter(\n",
    "    (datum.Category == 'Age')\n",
    ")"
   ]
  },
  {
   "cell_type": "code",
   "execution_count": null,
   "metadata": {},
   "outputs": [],
   "source": [
    "alt.Chart(df).mark_line().encode(\n",
    "    x='Decade:O',\n",
    "    y='Count:Q',\n",
    "    color='Subcategory'\n",
    ").transform_filter(\n",
    "    (datum.Category == 'Age')\n",
    ")"
   ]
  },
  {
   "cell_type": "code",
   "execution_count": null,
   "metadata": {},
   "outputs": [],
   "source": [
    "alt.Chart(df).mark_area().encode(\n",
    "    x='Decade:O',\n",
    "    y='Count:Q',\n",
    "    color='Subcategory'\n",
    ").transform_filter(\n",
    "    (datum.Category == 'Age')\n",
    ")"
   ]
  },
  {
   "cell_type": "code",
   "execution_count": null,
   "metadata": {},
   "outputs": [],
   "source": [
    "alt.Chart(df).mark_bar().encode(\n",
    "    x='Decade:O',\n",
    "    y='Count:Q',\n",
    "    color=alt.Color('Subcategory', sort=['less than High School', 'High School or GED', \"Some College or Associate's Degree\", \"Bachelor's Degree or Higher\"])\n",
    ").transform_filter(\n",
    "    (datum.Category == 'Educational Attainment (age 25+)')\n",
    ")"
   ]
  },
  {
   "cell_type": "code",
   "execution_count": null,
   "metadata": {},
   "outputs": [],
   "source": [
    "alt.Chart(df).mark_bar().encode(\n",
    "    x='Decade:O',\n",
    "    y='Count:Q',\n",
    "    color=alt.Color('Subcategory:N', sort=['less than High School', 'High School or GED', \"Some College or Associate's Degree\", \"Bachelor's Degree or Higher\"]),\n",
    "    column='Subcategory:N'\n",
    ").transform_filter(\n",
    "    (datum.Category == 'Educational Attainment (age 25+)')\n",
    ")"
   ]
  },
  {
   "cell_type": "code",
   "execution_count": null,
   "metadata": {},
   "outputs": [],
   "source": [
    "alt.Chart(df).mark_bar().encode(\n",
    "    x='Decade:O',\n",
    "    y='Count:Q',\n",
    "    color='Subcategory'\n",
    ").transform_filter(\n",
    "    (datum.Category == 'Housing Tenure') & (datum.Subcategory != 'Occupied Housing Units')\n",
    ")"
   ]
  },
  {
   "cell_type": "code",
   "execution_count": null,
   "metadata": {},
   "outputs": [],
   "source": [
    "alt.Chart(df).mark_bar().encode(\n",
    "    x='Decade:O',\n",
    "    y='Count:Q',\n",
    "    color='Subcategory'\n",
    ").transform_filter(\n",
    "    (datum.Category == 'Race/ Ethnicity')\n",
    ")"
   ]
  },
  {
   "cell_type": "code",
   "execution_count": null,
   "metadata": {},
   "outputs": [],
   "source": [
    "chart_race = alt.Chart(df).mark_bar().encode(\n",
    "    x='Decade:O',\n",
    "    y=alt.Y('Count:Q', stack='normalize', title='Demographic Split'),\n",
    "    color=alt.Color('Subcategory', title='Race/Enthnicity'),\n",
    "    tooltip=['Subcategory', 'Count', 'Decade']\n",
    ").transform_filter(\n",
    "    (datum.Category == 'Race/ Ethnicity')\n",
    ")\n",
    "chart_race"
   ]
  },
  {
   "cell_type": "code",
   "execution_count": null,
   "metadata": {},
   "outputs": [],
   "source": [
    "chart_race.save('chart_race.html', embed_options={'renderer':'svg'})"
   ]
  }
 ],
 "metadata": {
  "language_info": {
   "name": "python",
   "pygments_lexer": "ipython3"
  }
 },
 "nbformat": 4,
 "nbformat_minor": 4
}
